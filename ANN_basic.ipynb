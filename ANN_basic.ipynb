{
  "nbformat": 4,
  "nbformat_minor": 0,
  "metadata": {
    "colab": {
      "name": "ANN_basic.ipynb",
      "provenance": [],
      "include_colab_link": true
    },
    "kernelspec": {
      "name": "python3",
      "display_name": "Python 3"
    },
    "language_info": {
      "name": "python"
    }
  },
  "cells": [
    {
      "cell_type": "markdown",
      "metadata": {
        "id": "view-in-github",
        "colab_type": "text"
      },
      "source": [
        "<a href=\"https://colab.research.google.com/github/tanishq252/Traffic_Sign_Recognition_using_CNN_and_ANN/blob/master/ANN_basic.ipynb\" target=\"_parent\"><img src=\"https://colab.research.google.com/assets/colab-badge.svg\" alt=\"Open In Colab\"/></a>"
      ]
    },
    {
      "cell_type": "code",
      "metadata": {
        "id": "dlz8b8mFKmeK"
      },
      "source": [
        "import numpy as np"
      ],
      "execution_count": null,
      "outputs": []
    },
    {
      "cell_type": "code",
      "metadata": {
        "id": "COqmCiiGy1c0"
      },
      "source": [
        "def sigmoid(x):\n",
        "  return 1/(1+np.exp(-x))"
      ],
      "execution_count": null,
      "outputs": []
    },
    {
      "cell_type": "code",
      "metadata": {
        "id": "w8L1hZtg0Noc"
      },
      "source": [
        "train_inputs = np.array([[0,0,1],\n",
        "                        [1,1,1],\n",
        "                        [1,0,1],\n",
        "                        [0,1,1]])"
      ],
      "execution_count": null,
      "outputs": []
    },
    {
      "cell_type": "code",
      "metadata": {
        "id": "0sfwkwl60dYl"
      },
      "source": [
        "train_outputs = np.array([[0,1,1,0]]).T"
      ],
      "execution_count": null,
      "outputs": []
    },
    {
      "cell_type": "code",
      "metadata": {
        "id": "mohTH1Us0rSM"
      },
      "source": [
        "np.random.seed(1) #for getting same weights"
      ],
      "execution_count": null,
      "outputs": []
    },
    {
      "cell_type": "code",
      "metadata": {
        "id": "lKhMH1sK02OL"
      },
      "source": [
        "# so here epsilon value is 1 so as to get random integers between (-1,1)\n",
        "_weights = 2*np.random.random((3,1)) - 1"
      ],
      "execution_count": null,
      "outputs": []
    },
    {
      "cell_type": "code",
      "metadata": {
        "colab": {
          "base_uri": "https://localhost:8080/"
        },
        "id": "-tBLX78w1Mm8",
        "outputId": "8f167780-0e3a-4810-a46b-f6accbfdcac2"
      },
      "source": [
        "_weights"
      ],
      "execution_count": null,
      "outputs": [
        {
          "output_type": "execute_result",
          "data": {
            "text/plain": [
              "array([[-0.16595599],\n",
              "       [ 0.44064899],\n",
              "       [-0.99977125]])"
            ]
          },
          "metadata": {
            "tags": []
          },
          "execution_count": 8
        }
      ]
    },
    {
      "cell_type": "code",
      "metadata": {
        "id": "3TFp42aj1Rms"
      },
      "source": [
        "# here we have loops so as to get backprop done where iteration number can be said to epoch\n",
        " \n",
        "for epoch in range(2):\n",
        " \n",
        "  input_layer = train_inputs\n",
        " \n",
        "  output_layer  = train_outputs\n",
        " \n",
        "  predicted_output = sigmoid(np.dot(input_layer,_weights)) # here look at the dimensions and keep in mind we want the dimensions same as the output layer"
      ],
      "execution_count": null,
      "outputs": []
    },
    {
      "cell_type": "code",
      "metadata": {
        "colab": {
          "base_uri": "https://localhost:8080/"
        },
        "id": "M8h0fujh2k3D",
        "outputId": "4c929f87-4aae-4342-9862-00ae72879045"
      },
      "source": [
        "predicted_output"
      ],
      "execution_count": null,
      "outputs": [
        {
          "output_type": "execute_result",
          "data": {
            "text/plain": [
              "array([[0.2689864 ],\n",
              "       [0.3262757 ],\n",
              "       [0.23762817],\n",
              "       [0.36375058]])"
            ]
          },
          "metadata": {
            "tags": []
          },
          "execution_count": 10
        }
      ]
    },
    {
      "cell_type": "code",
      "metadata": {
        "id": "EHdYvB_W20hd"
      },
      "source": [
        "#  here we can see that model is messed up"
      ],
      "execution_count": null,
      "outputs": []
    },
    {
      "cell_type": "code",
      "metadata": {
        "id": "BB6gaxZb3A6l"
      },
      "source": [
        "#  so let us start with backprop "
      ],
      "execution_count": null,
      "outputs": []
    },
    {
      "cell_type": "code",
      "metadata": {
        "colab": {
          "base_uri": "https://localhost:8080/",
          "height": 53
        },
        "id": "scTfPCek3Gos",
        "outputId": "fc18f387-8f7e-48bf-fdaa-4887b07205bc"
      },
      "source": [
        "\"\"\" so using gradient descent the derivative of cost function where we use sigmoid\n",
        " as activation function is gonna look like :\n",
        "adjustment = error X sigmoid'(output) X input\n",
        "\"\"\""
      ],
      "execution_count": null,
      "outputs": [
        {
          "output_type": "execute_result",
          "data": {
            "application/vnd.google.colaboratory.intrinsic+json": {
              "type": "string"
            },
            "text/plain": [
              "\" so using gradient descent the derivative of cost function where we use sigmoid\\n as activation function is gonna look like :\\nadjusted_weight = error X sigmoid'(output) X input\""
            ]
          },
          "metadata": {
            "tags": []
          },
          "execution_count": 29
        }
      ]
    },
    {
      "cell_type": "code",
      "metadata": {
        "id": "X1K5FMMK5OZ9"
      },
      "source": [
        "# adding a sigmoid derivative function\n",
        "def sigmoid_derivative(x):\n",
        "  return x * (1-x)"
      ],
      "execution_count": null,
      "outputs": []
    },
    {
      "cell_type": "code",
      "metadata": {
        "colab": {
          "base_uri": "https://localhost:8080/"
        },
        "id": "TRBaFC1G6AGO",
        "outputId": "2180a9dd-791f-43d9-c1ba-28e16f144221"
      },
      "source": [
        "for epoch in range(2):\n",
        " \n",
        "  input_layer = train_inputs\n",
        " \n",
        "  output_layer  = train_outputs\n",
        " \n",
        "  predicted_output = sigmoid(np.dot(input_layer,_weights))\n",
        "  \n",
        "  error = output_layer - predicted_output\n",
        " \n",
        "  adjustment = error*sigmoid_derivative(predicted_output) # as we pass sigmoid output the function is simply returning the value as derivative format\n",
        " \n",
        "  _weights += np.dot(input_layer.T,adjustment) # here also keep an eye on dimensions\n",
        " \n",
        "print(predicted_output)"
      ],
      "execution_count": null,
      "outputs": [
        {
          "output_type": "stream",
          "text": [
            "[[0.00213544]\n",
            " [0.99825848]\n",
            " [0.99858574]\n",
            " [0.00173429]]\n"
          ],
          "name": "stdout"
        }
      ]
    },
    {
      "cell_type": "code",
      "metadata": {
        "id": "45MCBCqG7Vzn"
      },
      "source": [
        "# so we are updating the weights so let us run for 100,200,1000,2000 times and see results"
      ],
      "execution_count": null,
      "outputs": []
    },
    {
      "cell_type": "code",
      "metadata": {
        "colab": {
          "base_uri": "https://localhost:8080/"
        },
        "id": "mGL5YIoi7sM6",
        "outputId": "3090cef0-703c-4bba-b42f-c5bec1ac166d"
      },
      "source": [
        "for epoch in range(100):\n",
        " \n",
        "  input_layer = train_inputs\n",
        " \n",
        "  output_layer  = train_outputs\n",
        " \n",
        "  predicted_output = sigmoid(np.dot(input_layer,_weights))\n",
        "  \n",
        "  error = output_layer - predicted_output\n",
        " \n",
        "  adjustment = error*sigmoid_derivative(predicted_output) \n",
        " \n",
        "  _weights += np.dot(input_layer.T,adjustment)\n",
        " \n",
        "print(predicted_output)"
      ],
      "execution_count": null,
      "outputs": [
        {
          "output_type": "stream",
          "text": [
            "[[0.11328454]\n",
            " [0.90801039]\n",
            " [0.92344514]\n",
            " [0.0946492 ]]\n"
          ],
          "name": "stdout"
        }
      ]
    },
    {
      "cell_type": "code",
      "metadata": {
        "colab": {
          "base_uri": "https://localhost:8080/"
        },
        "id": "tu9LYYTx7uDZ",
        "outputId": "5ce716c4-066b-401f-a0ad-e86d8b430e9b"
      },
      "source": [
        "for epoch in range(200):\n",
        " \n",
        "  input_layer = train_inputs\n",
        " \n",
        "  output_layer  = train_outputs\n",
        " \n",
        "  predicted_output = sigmoid(np.dot(input_layer,_weights))\n",
        "  \n",
        "  error = output_layer - predicted_output\n",
        " \n",
        "  adjustment = error*sigmoid_derivative(predicted_output) \n",
        " \n",
        "  _weights += np.dot(input_layer.T,adjustment)\n",
        " \n",
        "print(predicted_output)"
      ],
      "execution_count": null,
      "outputs": [
        {
          "output_type": "stream",
          "text": [
            "[[0.00213545]\n",
            " [0.99825847]\n",
            " [0.99858573]\n",
            " [0.00173429]]\n"
          ],
          "name": "stdout"
        }
      ]
    },
    {
      "cell_type": "code",
      "metadata": {
        "colab": {
          "base_uri": "https://localhost:8080/"
        },
        "id": "Q3GZEMC-7z49",
        "outputId": "9bee2ee3-020a-4cdb-a6ed-2d07db9a7d31"
      },
      "source": [
        "for epoch in range(2000):\n",
        "\n",
        "  input_layer = train_inputs\n",
        "\n",
        "  output_layer  = train_outputs\n",
        "\n",
        "  predicted_output = sigmoid(np.dot(input_layer,_weights))\n",
        "  \n",
        "  error = output_layer - predicted_output\n",
        "\n",
        "  adjustment = error*sigmoid_derivative(predicted_output) \n",
        "\n",
        "  _weights += np.dot(input_layer.T,adjustment)\n",
        "\n",
        "print(predicted_output)"
      ],
      "execution_count": null,
      "outputs": [
        {
          "output_type": "stream",
          "text": [
            "[[0.0205307 ]\n",
            " [0.98328124]\n",
            " [0.98643907]\n",
            " [0.01666508]]\n"
          ],
          "name": "stdout"
        }
      ]
    },
    {
      "cell_type": "code",
      "metadata": {
        "colab": {
          "base_uri": "https://localhost:8080/"
        },
        "id": "VEZTVtD973Jk",
        "outputId": "94b858b7-0968-4cee-bcfe-cd076e39a0e9"
      },
      "source": [
        "for epoch in range(200000):\n",
        " \n",
        "  input_layer = train_inputs\n",
        " \n",
        "  output_layer  = train_outputs\n",
        " \n",
        "  predicted_output = sigmoid(np.dot(input_layer,_weights))\n",
        "  \n",
        "  error = output_layer - predicted_output\n",
        " \n",
        "  adjustment = error*sigmoid_derivative(predicted_output) \n",
        " \n",
        "  _weights += np.dot(input_layer.T,adjustment)\n",
        " \n",
        "print(predicted_output)"
      ],
      "execution_count": null,
      "outputs": [
        {
          "output_type": "stream",
          "text": [
            "[[0.00213653]\n",
            " [0.99825759]\n",
            " [0.99858503]\n",
            " [0.00173516]]\n"
          ],
          "name": "stdout"
        }
      ]
    },
    {
      "cell_type": "code",
      "metadata": {
        "id": "JDxYGmfc75tk"
      },
      "source": [
        "# so we can see as we train data more and more using more epochs we get predicted outputs as we initialized\n",
        "# as we know for sigmoid : output>=0.5 is 1 and output<0.5 is 0"
      ],
      "execution_count": null,
      "outputs": []
    },
    {
      "cell_type": "code",
      "metadata": {
        "colab": {
          "base_uri": "https://localhost:8080/"
        },
        "id": "EhwPotyw8WSu",
        "outputId": "22e7abe5-0857-4112-bdf6-a5e597930820"
      },
      "source": [
        "_predictions = []\n",
        "\n",
        "for i in predicted_output:\n",
        "  if i>=0.5:\n",
        "    _predictions.append(1)\n",
        "  else:\n",
        "    _predictions.append(0)\n",
        "\n",
        "print(_predictions)\n"
      ],
      "execution_count": null,
      "outputs": [
        {
          "output_type": "stream",
          "text": [
            "[0, 1, 1, 0]\n"
          ],
          "name": "stdout"
        }
      ]
    },
    {
      "cell_type": "code",
      "metadata": {
        "id": "LMVyRl7g8pPk"
      },
      "source": [
        "#  ;) as expected"
      ],
      "execution_count": null,
      "outputs": []
    }
  ]
}